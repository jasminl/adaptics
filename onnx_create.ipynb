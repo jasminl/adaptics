{
  "nbformat": 4,
  "nbformat_minor": 0,
  "metadata": {
    "colab": {
      "provenance": [],
      "authorship_tag": "ABX9TyOxomBDAo/C2lQhOGxncp0q",
      "include_colab_link": true
    },
    "kernelspec": {
      "name": "python3",
      "display_name": "Python 3"
    },
    "language_info": {
      "name": "python"
    }
  },
  "cells": [
    {
      "cell_type": "markdown",
      "metadata": {
        "id": "view-in-github",
        "colab_type": "text"
      },
      "source": [
        "<a href=\"https://colab.research.google.com/github/jasminl/adaptics/blob/master/onnx_create.ipynb\" target=\"_parent\"><img src=\"https://colab.research.google.com/assets/colab-badge.svg\" alt=\"Open In Colab\"/></a>"
      ]
    },
    {
      "cell_type": "code",
      "execution_count": 1,
      "metadata": {
        "colab": {
          "base_uri": "https://localhost:8080/"
        },
        "id": "8J_ackDrgQm_",
        "outputId": "4536699c-6a86-4083-97da-1895d2137399"
      },
      "outputs": [
        {
          "output_type": "stream",
          "name": "stdout",
          "text": [
            "Collecting onnx\n",
            "  Downloading onnx-1.16.1-cp310-cp310-manylinux_2_17_x86_64.manylinux2014_x86_64.whl (15.9 MB)\n",
            "\u001b[2K     \u001b[90m━━━━━━━━━━━━━━━━━━━━━━━━━━━━━━━━━━━━━━━━\u001b[0m \u001b[32m15.9/15.9 MB\u001b[0m \u001b[31m28.0 MB/s\u001b[0m eta \u001b[36m0:00:00\u001b[0m\n",
            "\u001b[?25hRequirement already satisfied: numpy>=1.20 in /usr/local/lib/python3.10/dist-packages (from onnx) (1.25.2)\n",
            "Requirement already satisfied: protobuf>=3.20.2 in /usr/local/lib/python3.10/dist-packages (from onnx) (3.20.3)\n",
            "Installing collected packages: onnx\n",
            "Successfully installed onnx-1.16.1\n",
            "Collecting onnxruntime\n",
            "  Downloading onnxruntime-1.18.0-cp310-cp310-manylinux_2_27_x86_64.manylinux_2_28_x86_64.whl (6.8 MB)\n",
            "\u001b[2K     \u001b[90m━━━━━━━━━━━━━━━━━━━━━━━━━━━━━━━━━━━━━━━━\u001b[0m \u001b[32m6.8/6.8 MB\u001b[0m \u001b[31m36.8 MB/s\u001b[0m eta \u001b[36m0:00:00\u001b[0m\n",
            "\u001b[?25hCollecting coloredlogs (from onnxruntime)\n",
            "  Downloading coloredlogs-15.0.1-py2.py3-none-any.whl (46 kB)\n",
            "\u001b[2K     \u001b[90m━━━━━━━━━━━━━━━━━━━━━━━━━━━━━━━━━━━━━━━━\u001b[0m \u001b[32m46.0/46.0 kB\u001b[0m \u001b[31m4.2 MB/s\u001b[0m eta \u001b[36m0:00:00\u001b[0m\n",
            "\u001b[?25hRequirement already satisfied: flatbuffers in /usr/local/lib/python3.10/dist-packages (from onnxruntime) (24.3.25)\n",
            "Requirement already satisfied: numpy>=1.21.6 in /usr/local/lib/python3.10/dist-packages (from onnxruntime) (1.25.2)\n",
            "Requirement already satisfied: packaging in /usr/local/lib/python3.10/dist-packages (from onnxruntime) (24.1)\n",
            "Requirement already satisfied: protobuf in /usr/local/lib/python3.10/dist-packages (from onnxruntime) (3.20.3)\n",
            "Requirement already satisfied: sympy in /usr/local/lib/python3.10/dist-packages (from onnxruntime) (1.12.1)\n",
            "Collecting humanfriendly>=9.1 (from coloredlogs->onnxruntime)\n",
            "  Downloading humanfriendly-10.0-py2.py3-none-any.whl (86 kB)\n",
            "\u001b[2K     \u001b[90m━━━━━━━━━━━━━━━━━━━━━━━━━━━━━━━━━━━━━━━━\u001b[0m \u001b[32m86.8/86.8 kB\u001b[0m \u001b[31m7.4 MB/s\u001b[0m eta \u001b[36m0:00:00\u001b[0m\n",
            "\u001b[?25hRequirement already satisfied: mpmath<1.4.0,>=1.1.0 in /usr/local/lib/python3.10/dist-packages (from sympy->onnxruntime) (1.3.0)\n",
            "Installing collected packages: humanfriendly, coloredlogs, onnxruntime\n",
            "Successfully installed coloredlogs-15.0.1 humanfriendly-10.0 onnxruntime-1.18.0\n",
            "Collecting onnxruntime_extensions\n",
            "  Downloading onnxruntime_extensions-0.11.0-cp310-cp310-manylinux_2_17_x86_64.manylinux2014_x86_64.whl (7.0 MB)\n",
            "\u001b[2K     \u001b[90m━━━━━━━━━━━━━━━━━━━━━━━━━━━━━━━━━━━━━━━━\u001b[0m \u001b[32m7.0/7.0 MB\u001b[0m \u001b[31m58.2 MB/s\u001b[0m eta \u001b[36m0:00:00\u001b[0m\n",
            "\u001b[?25hInstalling collected packages: onnxruntime_extensions\n",
            "Successfully installed onnxruntime_extensions-0.11.0\n",
            "Requirement already satisfied: numpy in /usr/local/lib/python3.10/dist-packages (1.25.2)\n"
          ]
        }
      ],
      "source": [
        "!pip install onnx\n",
        "!pip install onnxruntime\n",
        "!pip install onnxruntime_extensions\n",
        "!pip install numpy"
      ]
    },
    {
      "cell_type": "code",
      "source": [
        "from onnx import helper, onnx_pb as onnx_proto, save_model\n",
        "from onnxruntime_extensions import onnx_op, PyCustomOpDef, make_onnx_model\n",
        "\n",
        "nodes = [helper.make_node('CustomOp', ['input'], ['output'], domain='ai.onnx.contrib')]\n",
        "\n",
        "@onnx_op(op_type=\"CustomOp\",outputs=[PyCustomOpDef.dt_float])\n",
        "def custom_two_op(f):\n",
        "    print('Arbitrary code')\n",
        "    return f\n",
        "\n",
        "input = helper.make_tensor_value_info('input', onnx_proto.TensorProto.FLOAT, [1, 1])\n",
        "output = helper.make_tensor_value_info('output', onnx_proto.TensorProto.FLOAT, [1, 1])\n",
        "\n",
        "graph = helper.make_graph(nodes, 'test', [input], [output])\n",
        "model = helper.make_model(graph,\n",
        "                          opset_imports=[helper.make_operatorsetid('ai.onnx.contrib', 1)],\n",
        "                          ir_version=7)\n",
        "save_model(model, 'mymodel.onnx')\n"
      ],
      "metadata": {
        "id": "mjrMaLOpgSns"
      },
      "execution_count": 1,
      "outputs": []
    },
    {
      "cell_type": "code",
      "source": [
        "from onnx import load_model\n",
        "import onnxruntime as _ort\n",
        "from onnxruntime_extensions import (\n",
        "    onnx_op, PyCustomOpDef, make_onnx_model,\n",
        "    get_library_path as _get_library_path)\n",
        "import numpy as np\n",
        "\n",
        "so = _ort.SessionOptions()\n",
        "\n",
        "# Define a custom operator: this must be defined before the call to register_custom_ops_library\n",
        "@onnx_op(op_type=\"CustomOp\",outputs=[PyCustomOpDef.dt_float])\n",
        "def custom_two_op(f):\n",
        "    print('Arbitrary code')\n",
        "    return np.round(f)\n",
        "\n",
        "so.register_custom_ops_library(_get_library_path())  # Must first call any @onnx_op before this\n",
        "\n",
        "new_model = load_model('mymodel.onnx')\n",
        "\n",
        "sess = _ort.InferenceSession(new_model.SerializeToString(), so)\n",
        "res = sess.run(None, {'input': np.random.rand(1, 1).astype(np.float32)})"
      ],
      "metadata": {
        "colab": {
          "base_uri": "https://localhost:8080/"
        },
        "id": "xMBw-POr3_Qh",
        "outputId": "f20265fd-5883-4a8c-d0b8-7eafe9448a64"
      },
      "execution_count": 1,
      "outputs": [
        {
          "output_type": "stream",
          "name": "stdout",
          "text": [
            "Arbitrary code\n",
            "[array([[1.]], dtype=float32)]\n"
          ]
        }
      ]
    },
    {
      "cell_type": "code",
      "source": [
        "import json\n",
        "import io\n",
        "import onnx\n",
        "from onnx import load_model\n",
        "new_model = load_model('mymodel.onnx')\n",
        "\n",
        "# Do model checks (if greater than 2GB, use file path instead: https://github.com/onnx/onnx/blob/main/docs/PythonAPIOverview.md)\n",
        "try:\n",
        "    onnx.checker.check_model(new_model)\n",
        "except onnx.checker.ValidationError as e:\n",
        "    print(f\"The model is invalid: {e}\")\n",
        "else:\n",
        "    print(\"The model is valid!\")\n",
        "\n",
        "# Check for presence of custom operators (even if implementation is lacking)\n",
        "\n",
        "print(new_model)\n",
        "for node in new_model.graph.node:\n",
        "    if node.domain != '' and node.domain != 'ai.onnx':\n",
        "        print('Custom node found')\n",
        "        print(node)\n",
        "for node in new_model.graph.input:\n",
        "    print(node)"
      ],
      "metadata": {
        "colab": {
          "base_uri": "https://localhost:8080/"
        },
        "id": "DUinETdC7ctC",
        "outputId": "7c4a3695-80f7-479a-8446-5bb2b280d4bc"
      },
      "execution_count": 15,
      "outputs": [
        {
          "output_type": "stream",
          "name": "stdout",
          "text": [
            "The model is valid!\n",
            "ir_version: 7\n",
            "graph {\n",
            "  node {\n",
            "    input: \"input\"\n",
            "    output: \"output\"\n",
            "    op_type: \"CustomOp\"\n",
            "    domain: \"ai.onnx.contrib\"\n",
            "  }\n",
            "  name: \"test\"\n",
            "  input {\n",
            "    name: \"input\"\n",
            "    type {\n",
            "      tensor_type {\n",
            "        elem_type: 1\n",
            "        shape {\n",
            "          dim {\n",
            "            dim_value: 1\n",
            "          }\n",
            "          dim {\n",
            "            dim_value: 1\n",
            "          }\n",
            "        }\n",
            "      }\n",
            "    }\n",
            "  }\n",
            "  output {\n",
            "    name: \"output\"\n",
            "    type {\n",
            "      tensor_type {\n",
            "        elem_type: 1\n",
            "        shape {\n",
            "          dim {\n",
            "            dim_value: 1\n",
            "          }\n",
            "          dim {\n",
            "            dim_value: 1\n",
            "          }\n",
            "        }\n",
            "      }\n",
            "    }\n",
            "  }\n",
            "}\n",
            "opset_import {\n",
            "  domain: \"ai.onnx.contrib\"\n",
            "  version: 1\n",
            "}\n",
            "\n",
            "Custom node found\n",
            "input: \"input\"\n",
            "output: \"output\"\n",
            "op_type: \"CustomOp\"\n",
            "domain: \"ai.onnx.contrib\"\n",
            "\n",
            "name: \"input\"\n",
            "type {\n",
            "  tensor_type {\n",
            "    elem_type: 1\n",
            "    shape {\n",
            "      dim {\n",
            "        dim_value: 1\n",
            "      }\n",
            "      dim {\n",
            "        dim_value: 1\n",
            "      }\n",
            "    }\n",
            "  }\n",
            "}\n",
            "\n"
          ]
        }
      ]
    }
  ]
}