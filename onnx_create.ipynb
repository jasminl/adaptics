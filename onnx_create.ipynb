{
  "nbformat": 4,
  "nbformat_minor": 0,
  "metadata": {
    "colab": {
      "provenance": [],
      "authorship_tag": "ABX9TyPVkEGfEInUmqPuAAKnA4N6",
      "include_colab_link": true
    },
    "kernelspec": {
      "name": "python3",
      "display_name": "Python 3"
    },
    "language_info": {
      "name": "python"
    }
  },
  "cells": [
    {
      "cell_type": "markdown",
      "metadata": {
        "id": "view-in-github",
        "colab_type": "text"
      },
      "source": [
        "<a href=\"https://colab.research.google.com/github/jasminl/adaptics/blob/master/onnx_create.ipynb\" target=\"_parent\"><img src=\"https://colab.research.google.com/assets/colab-badge.svg\" alt=\"Open In Colab\"/></a>"
      ]
    },
    {
      "cell_type": "code",
      "execution_count": null,
      "metadata": {
        "id": "8J_ackDrgQm_"
      },
      "outputs": [],
      "source": [
        "!pip install onnx\n",
        "!pip install onnxruntime\n",
        "!pip install onnxruntime_extensions\n",
        "!pip install numpy"
      ]
    },
    {
      "cell_type": "code",
      "source": [
        "from onnx import helper, onnx_pb as onnx_proto, save_model\n",
        "from onnxruntime_extensions import onnx_op, PyCustomOpDef, make_onnx_model\n",
        "\n",
        "nodes = [helper.make_node('CustomOp', ['input'], ['output_1'], domain='ai.onnx.contrib'),\n",
        "         helper.make_node('Abs', ['output_1'], ['output_2'])]\n",
        "\n",
        "@onnx_op(op_type=\"CustomOp\",outputs=[PyCustomOpDef.dt_float])\n",
        "def custom_two_op(f):\n",
        "    print('Arbitrary code')\n",
        "    return f\n",
        "\n",
        "input = helper.make_tensor_value_info('input', onnx_proto.TensorProto.FLOAT, [1, 1])\n",
        "output_1 = helper.make_tensor_value_info('output_1', onnx_proto.TensorProto.FLOAT, [1, 1])\n",
        "output_2 = helper.make_tensor_value_info('output_2', onnx_proto.TensorProto.FLOAT, [1, 1])\n",
        "\n",
        "graph = helper.make_graph(nodes, 'test', [input], [output_2])\n",
        "model = helper.make_model(graph,\n",
        "                          opset_imports=[helper.make_operatorsetid('ai.onnx.contrib', 1)],\n",
        "                          ir_version=7)\n",
        "\n",
        "save_model(model, 'mymodel.onnx')"
      ],
      "metadata": {
        "id": "mjrMaLOpgSns"
      },
      "execution_count": null,
      "outputs": []
    },
    {
      "cell_type": "code",
      "source": [
        "from onnx import load_model\n",
        "import onnxruntime as _ort\n",
        "from onnxruntime_extensions import (\n",
        "    onnx_op, PyCustomOpDef, make_onnx_model,\n",
        "    get_library_path as _get_library_path)\n",
        "import numpy as np\n",
        "\n",
        "so = _ort.SessionOptions()\n",
        "\n",
        "# Define a custom operator: this must be defined before the call to register_custom_ops_library\n",
        "# @onnx_op(op_type=\"CustomOp\",outputs=[PyCustomOpDef.dt_float])\n",
        "# def custom_two_op(f):\n",
        "#     print('Arbitrary code')\n",
        "#     return np.round(f)\n",
        "\n",
        "so.register_custom_ops_library(_get_library_path())  # Must first call any @onnx_op before this\n",
        "\n",
        "new_model = load_model('mymodel.onnx')\n",
        "\n",
        "sess = _ort.InferenceSession(new_model.SerializeToString(), so)\n",
        "res = sess.run(None, {'input': np.random.rand(1, 1).astype(np.float32)})"
      ],
      "metadata": {
        "id": "xMBw-POr3_Qh"
      },
      "execution_count": null,
      "outputs": []
    },
    {
      "cell_type": "code",
      "source": [
        "import json\n",
        "import io\n",
        "import onnx\n",
        "from onnx import load_model\n",
        "\n",
        "new_model = load_model('mymodel.onnx')\n",
        "\n",
        "# Do model checks (if greater than 2GB, use file path instead:\n",
        "# https://github.com/onnx/onnx/blob/main/docs/PythonAPIOverview.md)\n",
        "try:\n",
        "    onnx.checker.check_model(new_model)\n",
        "except onnx.checker.ValidationError as e:\n",
        "    print(f\"The model is invalid: {e}\")\n",
        "else:\n",
        "    print(\"The model is valid!\")\n",
        "\n",
        "# Check for presence of custom operators (even if implementation is lacking)\n",
        "for node in new_model.graph.node:\n",
        "    if node.domain != '' and node.domain != 'ai.onnx':\n",
        "        print('Custom operator found')\n",
        "        print(node)\n"
      ],
      "metadata": {
        "id": "DUinETdC7ctC"
      },
      "execution_count": null,
      "outputs": []
    }
  ]
}