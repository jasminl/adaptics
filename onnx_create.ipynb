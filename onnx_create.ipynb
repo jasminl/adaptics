{
  "nbformat": 4,
  "nbformat_minor": 0,
  "metadata": {
    "colab": {
      "provenance": [],
      "authorship_tag": "ABX9TyOtuIK7Xv68aIfzg2s+zBlM",
      "include_colab_link": true
    },
    "kernelspec": {
      "name": "python3",
      "display_name": "Python 3"
    },
    "language_info": {
      "name": "python"
    }
  },
  "cells": [
    {
      "cell_type": "markdown",
      "metadata": {
        "id": "view-in-github",
        "colab_type": "text"
      },
      "source": [
        "<a href=\"https://colab.research.google.com/github/jasminl/adaptics/blob/master/onnx_create.ipynb\" target=\"_parent\"><img src=\"https://colab.research.google.com/assets/colab-badge.svg\" alt=\"Open In Colab\"/></a>"
      ]
    },
    {
      "cell_type": "code",
      "execution_count": 1,
      "metadata": {
        "colab": {
          "base_uri": "https://localhost:8080/"
        },
        "id": "8J_ackDrgQm_",
        "outputId": "4536699c-6a86-4083-97da-1895d2137399"
      },
      "outputs": [
        {
          "output_type": "stream",
          "name": "stdout",
          "text": [
            "Collecting onnx\n",
            "  Downloading onnx-1.16.1-cp310-cp310-manylinux_2_17_x86_64.manylinux2014_x86_64.whl (15.9 MB)\n",
            "\u001b[2K     \u001b[90m━━━━━━━━━━━━━━━━━━━━━━━━━━━━━━━━━━━━━━━━\u001b[0m \u001b[32m15.9/15.9 MB\u001b[0m \u001b[31m28.0 MB/s\u001b[0m eta \u001b[36m0:00:00\u001b[0m\n",
            "\u001b[?25hRequirement already satisfied: numpy>=1.20 in /usr/local/lib/python3.10/dist-packages (from onnx) (1.25.2)\n",
            "Requirement already satisfied: protobuf>=3.20.2 in /usr/local/lib/python3.10/dist-packages (from onnx) (3.20.3)\n",
            "Installing collected packages: onnx\n",
            "Successfully installed onnx-1.16.1\n",
            "Collecting onnxruntime\n",
            "  Downloading onnxruntime-1.18.0-cp310-cp310-manylinux_2_27_x86_64.manylinux_2_28_x86_64.whl (6.8 MB)\n",
            "\u001b[2K     \u001b[90m━━━━━━━━━━━━━━━━━━━━━━━━━━━━━━━━━━━━━━━━\u001b[0m \u001b[32m6.8/6.8 MB\u001b[0m \u001b[31m36.8 MB/s\u001b[0m eta \u001b[36m0:00:00\u001b[0m\n",
            "\u001b[?25hCollecting coloredlogs (from onnxruntime)\n",
            "  Downloading coloredlogs-15.0.1-py2.py3-none-any.whl (46 kB)\n",
            "\u001b[2K     \u001b[90m━━━━━━━━━━━━━━━━━━━━━━━━━━━━━━━━━━━━━━━━\u001b[0m \u001b[32m46.0/46.0 kB\u001b[0m \u001b[31m4.2 MB/s\u001b[0m eta \u001b[36m0:00:00\u001b[0m\n",
            "\u001b[?25hRequirement already satisfied: flatbuffers in /usr/local/lib/python3.10/dist-packages (from onnxruntime) (24.3.25)\n",
            "Requirement already satisfied: numpy>=1.21.6 in /usr/local/lib/python3.10/dist-packages (from onnxruntime) (1.25.2)\n",
            "Requirement already satisfied: packaging in /usr/local/lib/python3.10/dist-packages (from onnxruntime) (24.1)\n",
            "Requirement already satisfied: protobuf in /usr/local/lib/python3.10/dist-packages (from onnxruntime) (3.20.3)\n",
            "Requirement already satisfied: sympy in /usr/local/lib/python3.10/dist-packages (from onnxruntime) (1.12.1)\n",
            "Collecting humanfriendly>=9.1 (from coloredlogs->onnxruntime)\n",
            "  Downloading humanfriendly-10.0-py2.py3-none-any.whl (86 kB)\n",
            "\u001b[2K     \u001b[90m━━━━━━━━━━━━━━━━━━━━━━━━━━━━━━━━━━━━━━━━\u001b[0m \u001b[32m86.8/86.8 kB\u001b[0m \u001b[31m7.4 MB/s\u001b[0m eta \u001b[36m0:00:00\u001b[0m\n",
            "\u001b[?25hRequirement already satisfied: mpmath<1.4.0,>=1.1.0 in /usr/local/lib/python3.10/dist-packages (from sympy->onnxruntime) (1.3.0)\n",
            "Installing collected packages: humanfriendly, coloredlogs, onnxruntime\n",
            "Successfully installed coloredlogs-15.0.1 humanfriendly-10.0 onnxruntime-1.18.0\n",
            "Collecting onnxruntime_extensions\n",
            "  Downloading onnxruntime_extensions-0.11.0-cp310-cp310-manylinux_2_17_x86_64.manylinux2014_x86_64.whl (7.0 MB)\n",
            "\u001b[2K     \u001b[90m━━━━━━━━━━━━━━━━━━━━━━━━━━━━━━━━━━━━━━━━\u001b[0m \u001b[32m7.0/7.0 MB\u001b[0m \u001b[31m58.2 MB/s\u001b[0m eta \u001b[36m0:00:00\u001b[0m\n",
            "\u001b[?25hInstalling collected packages: onnxruntime_extensions\n",
            "Successfully installed onnxruntime_extensions-0.11.0\n",
            "Requirement already satisfied: numpy in /usr/local/lib/python3.10/dist-packages (1.25.2)\n"
          ]
        }
      ],
      "source": [
        "!pip install onnx\n",
        "!pip install onnxruntime\n",
        "!pip install onnxruntime_extensions\n",
        "!pip install numpy"
      ]
    },
    {
      "cell_type": "code",
      "source": [
        "from onnx import helper, onnx_pb as onnx_proto, save_model\n",
        "import onnxruntime as _ort\n",
        "from onnxruntime_extensions import (\n",
        "    onnx_op, PyCustomOpDef, make_onnx_model,\n",
        "    get_library_path as _get_library_path)\n",
        "\n",
        "\n",
        "nodes = [helper.make_node('CustomOp', ['input'], ['output_1'], domain='ai.onnx.contrib'),\n",
        "         helper.make_node('Abs', ['output_1'], ['output_2'])]\n",
        "\n",
        "@onnx_op(op_type=\"CustomOp\",outputs=[PyCustomOpDef.dt_float])\n",
        "def custom_two_op(f):\n",
        "    return np.round(f)\n",
        "\n",
        "input0 = helper.make_tensor_value_info(\n",
        "    'input', onnx_proto.TensorProto.FLOAT, [3, 5])\n",
        "output1 = helper.make_tensor_value_info(\n",
        "    'output_1', onnx_proto.TensorProto.FLOAT, [3, 5])\n",
        "output2 = helper.make_tensor_value_info(\n",
        "    'output_2', onnx_proto.TensorProto.FLOAT, [3, 5])\n",
        "\n",
        "graph = helper.make_graph(nodes, 'test0', [input0], [output2])\n",
        "model = helper.make_model(\n",
        "    graph, opset_imports=[helper.make_operatorsetid('ai.onnx.contrib', 1)], ir_version=7)\n",
        "save_model(model, 'mymodel.onnx')\n"
      ],
      "metadata": {
        "id": "mjrMaLOpgSns"
      },
      "execution_count": 1,
      "outputs": []
    },
    {
      "cell_type": "code",
      "source": [
        "from onnx import load_model\n",
        "import onnxruntime as _ort\n",
        "from onnxruntime_extensions import (\n",
        "    onnx_op, PyCustomOpDef, make_onnx_model,\n",
        "    get_library_path as _get_library_path)\n",
        "import numpy as np\n",
        "\n",
        "so = _ort.SessionOptions()\n",
        "\n",
        "# Define a custom operator: this must be defined before the call to register_custom_ops_library\n",
        "# @onnx_op(op_type=\"CustomOp\",outputs=[PyCustomOpDef.dt_float])\n",
        "# def custom_two_op(f):\n",
        "#     return np.round(f)\n",
        "\n",
        "so.register_custom_ops_library(_get_library_path())  # Must first call any @onnx_op before this\n",
        "\n",
        "new_model = load_model('mymodel.onnx')\n",
        "\n",
        "sess = _ort.InferenceSession(new_model.SerializeToString(), so)\n",
        "res = sess.run(None, {'input': np.random.rand(3, 5).astype(np.float32)})\n",
        "print(res)"
      ],
      "metadata": {
        "colab": {
          "base_uri": "https://localhost:8080/"
        },
        "id": "xMBw-POr3_Qh",
        "outputId": "8d03e2f7-a445-4632-c3ba-c19bd56694a1"
      },
      "execution_count": 2,
      "outputs": [
        {
          "output_type": "stream",
          "name": "stdout",
          "text": [
            "[array([[1., 1., 0., 1., 1.],\n",
            "       [0., 1., 0., 1., 0.],\n",
            "       [1., 1., 1., 0., 1.]], dtype=float32)]\n"
          ]
        }
      ]
    },
    {
      "cell_type": "code",
      "source": [
        "import json\n",
        "import io\n",
        "import onnx\n",
        "from onnx import load_model\n",
        "new_model = load_model('mymodel.onnx')\n",
        "\n",
        "print(new_model)\n",
        "# #output = io.StringIO()\n",
        "# with open('tmp.txt', 'w') as f:\n",
        "#     print(new_model, file=f)\n",
        "# #contents = output.getvalue()\n",
        "# #output.close()\n",
        "# with open('tmp.txt', 'r') as f:\n",
        "#     onnx.parser.parse_model(f.read())"
      ],
      "metadata": {
        "colab": {
          "base_uri": "https://localhost:8080/"
        },
        "id": "DUinETdC7ctC",
        "outputId": "4aa96cce-07b9-4596-c9fb-4f5c787ee02f"
      },
      "execution_count": 3,
      "outputs": [
        {
          "output_type": "stream",
          "name": "stdout",
          "text": [
            "ir_version: 7\n",
            "graph {\n",
            "  node {\n",
            "    input: \"input\"\n",
            "    output: \"output_1\"\n",
            "    op_type: \"CustomOp\"\n",
            "    domain: \"ai.onnx.contrib\"\n",
            "  }\n",
            "  node {\n",
            "    input: \"output_1\"\n",
            "    output: \"output_2\"\n",
            "    op_type: \"Abs\"\n",
            "  }\n",
            "  name: \"test0\"\n",
            "  input {\n",
            "    name: \"input\"\n",
            "    type {\n",
            "      tensor_type {\n",
            "        elem_type: 1\n",
            "        shape {\n",
            "          dim {\n",
            "            dim_value: 3\n",
            "          }\n",
            "          dim {\n",
            "            dim_value: 5\n",
            "          }\n",
            "        }\n",
            "      }\n",
            "    }\n",
            "  }\n",
            "  output {\n",
            "    name: \"output_2\"\n",
            "    type {\n",
            "      tensor_type {\n",
            "        elem_type: 1\n",
            "        shape {\n",
            "          dim {\n",
            "            dim_value: 3\n",
            "          }\n",
            "          dim {\n",
            "            dim_value: 5\n",
            "          }\n",
            "        }\n",
            "      }\n",
            "    }\n",
            "  }\n",
            "}\n",
            "opset_import {\n",
            "  domain: \"ai.onnx.contrib\"\n",
            "  version: 1\n",
            "}\n",
            "\n"
          ]
        }
      ]
    }
  ]
}